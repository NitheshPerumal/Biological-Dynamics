{
 "cells": [
  {
   "cell_type": "markdown",
   "metadata": {},
   "source": [
    "# 1D Cellular Automata\n",
    "\n",
    "Simple Rules to Generate Complextiy \n",
    "\n",
    "## Key Components\n",
    "    Universe: space/grid where interactions occur\n",
    "    States the cells on the grid can take\n",
    "    Neighborhood: What information a single cell considers to make decisions\n",
    "    Interaction Rules: Decision making criteria that changes STATES based on NEIGHBORHOOD\n",
    "    "
   ]
  },
  {
   "cell_type": "markdown",
   "metadata": {},
   "source": [
    "## Every Simulation Needs:\n",
    "    Initital Conditions\n",
    "    State Variables\n",
    "    Boundary Conditions\n",
    "    Timescales, Computational Considerations"
   ]
  },
  {
   "cell_type": "code",
   "execution_count": 1,
   "metadata": {},
   "outputs": [],
   "source": [
    "import numpy as np\n",
    "import matplotlib.pyplot as plt"
   ]
  },
  {
   "cell_type": "code",
   "execution_count": 2,
   "metadata": {},
   "outputs": [
    {
     "name": "stdout",
     "output_type": "stream",
     "text": [
      "[[0. 0. 0. 0. 0. 0. 0. 0. 0. 0. 0. 0. 0. 0. 0. 0. 0. 0. 0. 0. 0.]]\n"
     ]
    }
   ],
   "source": [
    "#Making Universe\n",
    "#np.zeros makes a numpy array filled with 0s based on dimesions of a tuple\n",
    "\n",
    "universe = np.zeros((1,21))\n",
    "print(universe)"
   ]
  },
  {
   "cell_type": "code",
   "execution_count": 3,
   "metadata": {},
   "outputs": [
    {
     "data": {
      "text/plain": [
       "<matplotlib.image.AxesImage at 0x116a6e100>"
      ]
     },
     "execution_count": 3,
     "metadata": {},
     "output_type": "execute_result"
    },
    {
     "data": {
      "image/png": "[encoded data removed]",
      "text/plain": [
       "<Figure size 432x288 with 1 Axes>"
      ]
     },
     "metadata": {
      "needs_background": "light"
     },
     "output_type": "display_data"
    }
   ],
   "source": [
    "#Visualizing Simulation \n",
    "%matplotlib inline\n",
    "\n",
    "import matplotlib.pyplot as plt\n",
    "plt.axis('off')\n",
    "plt.imshow(universe, cmap = 'gray') #automatically scaling between grayscale (since binary we only will see blk or wht)"
   ]
  },
  {
   "cell_type": "code",
   "execution_count": 36,
   "metadata": {},
   "outputs": [
    {
     "name": "stdout",
     "output_type": "stream",
     "text": [
      "[[1. 0. 1. 1. 1. 1. 1. 1. 1. 0. 0. 0. 0. 1. 1. 0. 1. 1. 0. 0. 0.]]\n"
     ]
    },
    {
     "data": {
      "text/plain": [
       "<matplotlib.image.AxesImage at 0x117f5e400>"
      ]
     },
     "execution_count": 36,
     "metadata": {},
     "output_type": "execute_result"
    },
    {
     "data": {
      "image/png": "[encoded data removed]",
      "text/plain": [
       "<Figure size 432x288 with 1 Axes>"
      ]
     },
     "metadata": {
      "needs_background": "light"
     },
     "output_type": "display_data"
    }
   ],
   "source": [
    "#Randomly assign binary state to each cell\n",
    "\n",
    "import random as rd\n",
    "universe = np.zeros((1,21)) #mkaing numpy array filled with 0's\n",
    "\n",
    "for i in range(np.size(universe,1)): #np.size(data, 0) == nrow(data) and np.size(data,1) == ncol(data)\n",
    "    universe[0,i] = rd.randint(0,1)\n",
    "\n",
    "print(universe)\n",
    "plt.axis('off')\n",
    "plt.imshow(universe, cmap = 'gray')#will vary colors based on total number of states automatically (like virdis/hbrthemes in R)\n",
    "\n",
    "#One line solution: universe = np.random.randint(2, size = (1,21))"
   ]
  },
  {
   "cell_type": "code",
   "execution_count": 5,
   "metadata": {},
   "outputs": [],
   "source": [
    "#Thinking about the neighborhood\n",
    "#left, right, and home (itself) - simplest possible neighborhood (3 cells)\n",
    "# for binary states 2^3 = 8 neighborhood configurations\n",
    "\n",
    "def rules(left, home, right):\n",
    "    if (left == 0) & (home == 0) & (right == 0):\n",
    "        return 0\n",
    "    if (left == 1) & (home == 0) & (right == 0):\n",
    "        return 1\n",
    "    if (left == 0) & (home == 0) & (right == 0):\n",
    "        return 1\n",
    "    \n",
    "#do this 8 times to recognize each unique config of the neighborhood \n",
    "#returns the new state"
   ]
  },
  {
   "cell_type": "code",
   "execution_count": 6,
   "metadata": {},
   "outputs": [
    {
     "data": {
      "text/plain": [
       "1"
      ]
     },
     "execution_count": 6,
     "metadata": {},
     "output_type": "execute_result"
    }
   ],
   "source": [
    "def rules(left, home, right, config):\n",
    "    if (left == 0) & (home == 0) & (right == 0):\n",
    "        return config[0]\n",
    "    if (left == 1) & (home == 0) & (right == 0):\n",
    "        return config[1]\n",
    "    if (left == 0) & (home == 1) & (right == 0):\n",
    "        return config[2]\n",
    "    if (left == 1) & (home == 1) & (right == 0):\n",
    "        return config[3]\n",
    "    if (left == 0) & (home == 0) & (right == 1):\n",
    "        return config[4]\n",
    "    if (left == 1) & (home == 0) & (right == 1):\n",
    "        return config[5]\n",
    "    if (left == 0) & (home == 1) & (right == 1):\n",
    "        return config[6]\n",
    "    if (left == 1) & (home == 1) & (right == 1):\n",
    "        return config[7]\n",
    "    \n",
    "config = np.array([1,0,1,1,0,1,1,1])\n",
    "left = 0\n",
    "home = 0\n",
    "right = 0\n",
    "\n",
    "rules(left, home, right, config) # makes it easier to switch up the rules by changing the config file"
   ]
  },
  {
   "cell_type": "code",
   "execution_count": 7,
   "metadata": {},
   "outputs": [],
   "source": [
    "# A function that takes a particular set of initial conditions\n",
    "# A universe of a particular size and a particular configuration of the rules\n",
    "# returns a new universe with new states\n",
    "\n",
    "def generate(universe, config):\n",
    "    new_universe = np.zeros((1,universe.size))\n",
    "    \n",
    "#Build loop to iterate through universe and applies rule set to each cell\n",
    "    for i in np.arange(universe.size):\n",
    "        \n",
    "        if (i != 0) & (i != universe.size-1):\n",
    "            left = universe[0, i - 1]\n",
    "            home = universe[0, i]\n",
    "            right = universe[0, i + 1]\n",
    "        \n",
    "            new_universe[0,i] = rules(left, home, right, config)\n",
    "        \n",
    "    return new_universe"
   ]
  },
  {
   "cell_type": "code",
   "execution_count": 8,
   "metadata": {},
   "outputs": [
    {
     "name": "stdout",
     "output_type": "stream",
     "text": [
      "[[0 0 0 1 0 1 1 0 1 0 1 0 1 1 0 0 0 1 1 0 1]]\n"
     ]
    },
    {
     "data": {
      "text/plain": [
       "<matplotlib.image.AxesImage at 0x116b96640>"
      ]
     },
     "execution_count": 8,
     "metadata": {},
     "output_type": "execute_result"
    },
    {
     "data": {
      "image/png": "[encoded data removed]",
      "text/plain": [
       "<Figure size 432x288 with 1 Axes>"
      ]
     },
     "metadata": {
      "needs_background": "light"
     },
     "output_type": "display_data"
    }
   ],
   "source": [
    "universe = np.random.randint(2, size = (1,21))\n",
    "config = np.array([1,0,1,1,0,1,1,1])\n",
    "\n",
    "newuniverse = generate(universe, config)\n",
    "\n",
    "print(universe)\n",
    "plt.axis('off')\n",
    "plt.imshow(universe, cmap = 'gray')"
   ]
  },
  {
   "cell_type": "code",
   "execution_count": 9,
   "metadata": {},
   "outputs": [
    {
     "name": "stdout",
     "output_type": "stream",
     "text": [
      "[[0. 1. 0. 1. 1. 1. 1. 1. 1. 1. 1. 1. 1. 1. 0. 1. 0. 1. 1. 1. 0.]]\n"
     ]
    },
    {
     "data": {
      "text/plain": [
       "<matplotlib.image.AxesImage at 0x116bd2250>"
      ]
     },
     "execution_count": 9,
     "metadata": {},
     "output_type": "execute_result"
    },
    {
     "data": {
      "image/png": "[encoded data removed]",
      "text/plain": [
       "<Figure size 432x288 with 1 Axes>"
      ]
     },
     "metadata": {
      "needs_background": "light"
     },
     "output_type": "display_data"
    }
   ],
   "source": [
    "print(newuniverse)\n",
    "plt.axis('off')\n",
    "plt.imshow(newuniverse, cmap = 'gray')"
   ]
  },
  {
   "cell_type": "markdown",
   "metadata": {},
   "source": [
    "## Binary representations\n",
    "### 2 bit system \n",
    "\n",
    "#### 0 = [0,0] \n",
    "#### 1 = [0,1] \n",
    "#### 2 = [1,0] \n",
    "#### 3 = [1,1]"
   ]
  },
  {
   "cell_type": "code",
   "execution_count": 10,
   "metadata": {},
   "outputs": [],
   "source": [
    "# Make fxn to return binary representation from numeric representation\n",
    "\n",
    "def num2binArray(num):\n",
    "    #Make a place holder for binary output\n",
    "    binstr = np.binary_repr(num, width = 8)\n",
    "    binArray = np.empty(0)\n",
    "    \n",
    "    for i in binstr:\n",
    "        binArray = np.append(binArray, int(i))\n",
    "        \n",
    "    return np.flip(binArray)"
   ]
  },
  {
   "cell_type": "code",
   "execution_count": 25,
   "metadata": {},
   "outputs": [
    {
     "name": "stdout",
     "output_type": "stream",
     "text": [
      "[0. 0. 0. 0. 0. 0. 0. 0.]\n"
     ]
    }
   ],
   "source": [
    "#test the num2binArray\n",
    "\n",
    "config = num2binArray(0)\n",
    "print(config)"
   ]
  },
  {
   "cell_type": "code",
   "execution_count": 35,
   "metadata": {},
   "outputs": [
    {
     "name": "stdout",
     "output_type": "stream",
     "text": [
      "[0. 1. 0. 1. 1. 0. 1. 0.]\n"
     ]
    },
    {
     "data": {
      "text/plain": [
       "<matplotlib.image.AxesImage at 0x117eed6a0>"
      ]
     },
     "execution_count": 35,
     "metadata": {},
     "output_type": "execute_result"
    },
    {
     "data": {
      "image/png": "[encoded data removed]",
      "text/plain": [
       "<Figure size 1440x1440 with 1 Axes>"
      ]
     },
     "metadata": {
      "needs_background": "light"
     },
     "output_type": "display_data"
    }
   ],
   "source": [
    "#Think about time as \"generations\" (# of times generate() implemented)\n",
    "\n",
    "t = 100 #number of generations you want\n",
    "\n",
    "#Config file for Rule Set 30\n",
    "config = num2binArray(90)\n",
    "print(config)\n",
    "\n",
    "#Establish the Universe w/initial condition\n",
    "universe = np.zeros((1,101))\n",
    "universe[0,50] = 1\n",
    "\n",
    "stateMemory = np.zeros((t, universe.size))\n",
    "\n",
    "for i in range(t):\n",
    "    stateMemory[i,:] = universe\n",
    "    newuniverse = generate(universe, config)\n",
    "    universe = newuniverse\n",
    "\n",
    "#Visualize\n",
    "plt.figure(figsize = (20,20) )\n",
    "plt.axis(\"off\")\n",
    "plt.imshow(stateMemory, cmap = 'gray')"
   ]
  },
  {
   "cell_type": "markdown",
   "metadata": {},
   "source": [
    "# Classifying the Rules\n",
    "\n",
    "## Class 1: Uniformity\n",
    "Uniformity happens when, after some finite number of generations, every cell remains constant for the rest of the generations\n",
    "\n",
    "## Class 2: Repetition\n",
    "Similar to Class 1 in that after a finite number of generations the states remain \"stable\", but the pattern is not constant = follows a sequence. \n",
    "Ex: 001001001001\n",
    "\n",
    "## Class 3: Random\n",
    "Class 3 has no discernible pattern. \n",
    "Ex: Rule 30 is used as a random number generator\n",
    "\n",
    "## Class 4: Complexity\n",
    "Think of it as a mixture of Class 2 and Class 3 - Semirepetitve Randomness. All complex systems live in this state - especially applicable for biology"
   ]
  },
  {
   "cell_type": "markdown",
   "metadata": {},
   "source": [
    "# 2D Cellular Automata\n",
    "\n",
    "Its a system of cells that lives on a grid (universe)\n",
    "That grid can exist on any number of dimensions\n",
    "The grid configuration can have any kind of connectivity (line, swuar, hexagonal)\n",
    "\n",
    "## Game of Life\n",
    "\n",
    "2D, Square Lattice (space)\n",
    "Those cells on the grid follow rules, which are iterated to give us generations (time)\n",
    "\n",
    "Initital conditions: Generation 0 (whatever the first generation is)\n",
    "\n",
    "Game of life: On/Off (1/0) -> Alive or Dead\n",
    "\n",
    "### The Rules:\n",
    "\n",
    "At each step the following transition occurs:\n",
    "\n",
    "* Any live cell (1) with fewer than 2 live neighbors dies -> simulates underpopulation\n",
    "\n",
    "* Any live cell with 2 or 3 live neighbors lives on to next generation\n",
    "\n",
    "* Any live cell with more than 3 live neighbors dies -> simulates overpopulation \n",
    "\n",
    "* Any dead cell with exaclty three live neighbors becomes alive -> simulates reproduction\n"
   ]
  },
  {
   "cell_type": "markdown",
   "metadata": {},
   "source": [
    "### In other words: \n",
    "\n",
    "Any live cell with 2 or 3 neighbors survives\n",
    "\n",
    "Any dead cell with 3 live neighbors becomes a live cell\n",
    "\n",
    "All other live cells die and all other dead cells stay dead"
   ]
  },
  {
   "cell_type": "code",
   "execution_count": 5,
   "metadata": {},
   "outputs": [
    {
     "name": "stdout",
     "output_type": "stream",
     "text": [
      "[[1 0 1 1 0 1 0 0 0 1]\n",
      " [1 0 0 1 1 0 1 1 1 0]\n",
      " [1 0 1 1 1 1 1 1 0 1]\n",
      " [1 0 1 0 1 0 1 1 1 1]\n",
      " [1 0 0 0 0 0 0 0 0 1]\n",
      " [0 1 0 0 1 1 0 0 0 1]\n",
      " [0 0 0 1 1 1 0 0 1 1]\n",
      " [0 0 1 1 1 1 0 1 1 1]\n",
      " [1 0 0 1 0 1 1 1 1 1]\n",
      " [0 1 0 0 1 1 0 0 1 0]]\n"
     ]
    }
   ],
   "source": [
    "import numpy as np\n",
    "\n",
    "#universe = np.zeros((10,10))\n",
    "#universe = np.ones((10,10))\n",
    "\n",
    "# we could do random array aswell\n",
    "universe = np.random.randint(2, size = (10,10))\n",
    "print(universe)"
   ]
  },
  {
   "cell_type": "code",
   "execution_count": 6,
   "metadata": {},
   "outputs": [
    {
     "data": {
      "text/plain": [
       "<matplotlib.image.AxesImage at 0x1170f5bb0>"
      ]
     },
     "execution_count": 6,
     "metadata": {},
     "output_type": "execute_result"
    },
    {
     "data": {
      "image/png": "[encoded data removed]",
      "text/plain": [
       "<Figure size 432x288 with 1 Axes>"
      ]
     },
     "metadata": {
      "needs_background": "light"
     },
     "output_type": "display_data"
    }
   ],
   "source": [
    "import matplotlib.pyplot as plt\n",
    "%matplotlib inline\n",
    "\n",
    "plt.imshow(universe, cmap = 'gray')"
   ]
  },
  {
   "cell_type": "markdown",
   "metadata": {},
   "source": [
    "We need to create loop to iterate through all of elements of the universe and apply rule set to each element\n",
    "\n",
    "With Game of Life can use array indexing and boolean function to implement the rule set"
   ]
  },
  {
   "cell_type": "code",
   "execution_count": 7,
   "metadata": {},
   "outputs": [
    {
     "name": "stdout",
     "output_type": "stream",
     "text": [
      "i =  0 j=  0\n",
      "i =  0 j=  1\n",
      "i =  0 j=  2\n",
      "i =  0 j=  3\n",
      "i =  0 j=  4\n",
      "i =  0 j=  5\n",
      "i =  0 j=  6\n",
      "i =  0 j=  7\n",
      "i =  0 j=  8\n",
      "i =  0 j=  9\n",
      "i =  1 j=  0\n",
      "i =  1 j=  1\n",
      "i =  1 j=  2\n",
      "i =  1 j=  3\n",
      "i =  1 j=  4\n",
      "i =  1 j=  5\n",
      "i =  1 j=  6\n",
      "i =  1 j=  7\n",
      "i =  1 j=  8\n",
      "i =  1 j=  9\n",
      "i =  2 j=  0\n",
      "i =  2 j=  1\n",
      "i =  2 j=  2\n",
      "i =  2 j=  3\n",
      "i =  2 j=  4\n",
      "i =  2 j=  5\n",
      "i =  2 j=  6\n",
      "i =  2 j=  7\n",
      "i =  2 j=  8\n",
      "i =  2 j=  9\n",
      "i =  3 j=  0\n",
      "i =  3 j=  1\n",
      "i =  3 j=  2\n",
      "i =  3 j=  3\n",
      "i =  3 j=  4\n",
      "i =  3 j=  5\n",
      "i =  3 j=  6\n",
      "i =  3 j=  7\n",
      "i =  3 j=  8\n",
      "i =  3 j=  9\n",
      "i =  4 j=  0\n",
      "i =  4 j=  1\n",
      "i =  4 j=  2\n",
      "i =  4 j=  3\n",
      "i =  4 j=  4\n",
      "i =  4 j=  5\n",
      "i =  4 j=  6\n",
      "i =  4 j=  7\n",
      "i =  4 j=  8\n",
      "i =  4 j=  9\n",
      "i =  5 j=  0\n",
      "i =  5 j=  1\n",
      "i =  5 j=  2\n",
      "i =  5 j=  3\n",
      "i =  5 j=  4\n",
      "i =  5 j=  5\n",
      "i =  5 j=  6\n",
      "i =  5 j=  7\n",
      "i =  5 j=  8\n",
      "i =  5 j=  9\n",
      "i =  6 j=  0\n",
      "i =  6 j=  1\n",
      "i =  6 j=  2\n",
      "i =  6 j=  3\n",
      "i =  6 j=  4\n",
      "i =  6 j=  5\n",
      "i =  6 j=  6\n",
      "i =  6 j=  7\n",
      "i =  6 j=  8\n",
      "i =  6 j=  9\n",
      "i =  7 j=  0\n",
      "i =  7 j=  1\n",
      "i =  7 j=  2\n",
      "i =  7 j=  3\n",
      "i =  7 j=  4\n",
      "i =  7 j=  5\n",
      "i =  7 j=  6\n",
      "i =  7 j=  7\n",
      "i =  7 j=  8\n",
      "i =  7 j=  9\n",
      "i =  8 j=  0\n",
      "i =  8 j=  1\n",
      "i =  8 j=  2\n",
      "i =  8 j=  3\n",
      "i =  8 j=  4\n",
      "i =  8 j=  5\n",
      "i =  8 j=  6\n",
      "i =  8 j=  7\n",
      "i =  8 j=  8\n",
      "i =  8 j=  9\n",
      "i =  9 j=  0\n",
      "i =  9 j=  1\n",
      "i =  9 j=  2\n",
      "i =  9 j=  3\n",
      "i =  9 j=  4\n",
      "i =  9 j=  5\n",
      "i =  9 j=  6\n",
      "i =  9 j=  7\n",
      "i =  9 j=  8\n",
      "i =  9 j=  9\n"
     ]
    }
   ],
   "source": [
    "#np.ndindex\n",
    "\n",
    "for i,j in np.ndindex(universe.shape):\n",
    "    print('i = ', i, 'j= ', j)\n",
    "    "
   ]
  },
  {
   "cell_type": "code",
   "execution_count": 7,
   "metadata": {},
   "outputs": [
    {
     "data": {
      "text/plain": [
       "1"
      ]
     },
     "execution_count": 7,
     "metadata": {},
     "output_type": "execute_result"
    }
   ],
   "source": [
    "# Modulus operator is % followed by the space (magic command is %wihtout space)\n",
    "# This allows us to use \"wrap around\"/\"periodic\" boundary conditions"
   ]
  },
  {
   "cell_type": "markdown",
   "metadata": {},
   "source": [
    "## 2D Neighborhood Choices\n",
    "\n",
    "### Von Neuman Neighborhood \n",
    "\n",
    "Up, Down, Left, Right\n",
    " \n",
    "### Moore Neighborhood\n",
    "\n",
    "Up, Down, Left, Right, and all Diagnols"
   ]
  },
  {
   "cell_type": "code",
   "execution_count": 8,
   "metadata": {},
   "outputs": [],
   "source": [
    "def update(x):\n",
    "    #get number of rows and columns (shape of universe)\n",
    "    rows, cols = x.shape\n",
    "    \n",
    "    #storage device for new universe (matrix)\n",
    "    xnew = np.zeros(x.shape)\n",
    "    \n",
    "    #\"wrap around\" boundary conditions\n",
    "    for i,j in np.ndindex(x.shape):\n",
    "        total = (x[i,(j-1)%rows] #left\n",
    "                 + x[i, (j+1)%rows] #right\n",
    "                 + x[(i-1)%cols,j] #up\n",
    "                 + x[(i+1)%cols,j] #down\n",
    "                 + x[(i-1)%cols,(j-1)%rows] #up and to left\n",
    "                 + x[(i+1)%cols,(j-1)%rows] #down and to left\n",
    "                 + x[(i+1)%cols,(j+1)%rows] #up and to right\n",
    "                 + x[(i-1)%cols,(j+1)%rows] #down and to right\n",
    "                )\n",
    "    \n",
    "        #Implementing rules of life\n",
    "        if x[i,j] == 1: #look at living cell\n",
    "            #Deal with under and over population\n",
    "            if(total < 2) or (total > 3):\n",
    "                xnew[i,j] = 0\n",
    "            else: #any cell w/ 2 or 3 neigbors lives on\n",
    "                xnew[i,j] = 1\n",
    "        else: #Equivalent to x[i,j] == 0\n",
    "            if total == 3: #Condition of birth\n",
    "                xnew[i,j] = 1\n",
    "            else:\n",
    "                xnew[i,j] = 0\n",
    "    return(xnew)"
   ]
  },
  {
   "cell_type": "code",
   "execution_count": 9,
   "metadata": {},
   "outputs": [
    {
     "data": {
      "text/plain": [
       "<matplotlib.image.AxesImage at 0x1172587c0>"
      ]
     },
     "execution_count": 9,
     "metadata": {},
     "output_type": "execute_result"
    },
    {
     "data": {
      "image/png": "[encoded data removed]",
      "text/plain": [
       "<Figure size 432x288 with 1 Axes>"
      ]
     },
     "metadata": {
      "needs_background": "light"
     },
     "output_type": "display_data"
    }
   ],
   "source": [
    "beacon = np.array([[0,0,0,0,0],\n",
    "                  [0,0,1,0,0],\n",
    "                  [0,0,1,0,0],\n",
    "                  [0,0,1,0,0],\n",
    "                  [0,0,0,0,0]])\n",
    "\n",
    "#plt.imshow(beacon, cmap = 'inferno')\n",
    "\n",
    "plt.imshow(update(beacon), cmap = 'inferno')"
   ]
  },
  {
   "cell_type": "markdown",
   "metadata": {},
   "source": [
    "## Iterate and Animate\n",
    "Create method for running the update function and displaying the new results iteratively\n"
   ]
  },
  {
   "cell_type": "code",
   "execution_count": 11,
   "metadata": {},
   "outputs": [
    {
     "data": {
      "image/png": "[encoded data removed]",
      "text/plain": [
       "<Figure size 720x720 with 1 Axes>"
      ]
     },
     "metadata": {
      "needs_background": "light"
     },
     "output_type": "display_data"
    }
   ],
   "source": [
    "from IPython.display import clear_output\n",
    "from time import sleep\n",
    "n = 10 #number of generations to simulate\n",
    "\n",
    "for i in range(n):\n",
    "    plt.figure(figsize = (10,10))\n",
    "    plt.imshow(update(beacon), cmap = 'inferno')\n",
    "    plt.show()\n",
    "    sleep(1)\n",
    "    beacon = update(beacon)\n",
    "    \n",
    "    clear_output(wait = True)\n",
    "    "
   ]
  },
  {
   "cell_type": "code",
   "execution_count": 15,
   "metadata": {},
   "outputs": [],
   "source": [
    "# Plant a seed (set of initial conditions)\n",
    "\n",
    "def ceil(a,b):\n",
    "        return -(-a//b)\n",
    "\n",
    "def plant_seed(seed, nrow, ncol):\n",
    "    soil = np.zeros((nrow, ncol)) #size of big universe to drop it in\n",
    "    \n",
    "    rowu = soil.shape[0] //2 + seed.shape[0] //2 #upper row boundary\n",
    "    rowl = ceil(soil.shape[0], 2) -  ceil(seed.shape[0], 2)\n",
    "    \n",
    "    colu = soil.shape[1] //2 + seed.shape[1] //2 #upper col boundary\n",
    "    coll = ceil(soil.shape[1], 2) -  ceil(seed.shape[1], 2)\n",
    "    \n",
    "    soil[rowl:rowu, coll:colu] = seed\n",
    "    \n",
    "    planted_seed = soil\n",
    "    \n",
    "    return planted_seed\n",
    "        "
   ]
  },
  {
   "cell_type": "code",
   "execution_count": 18,
   "metadata": {},
   "outputs": [
    {
     "data": {
      "text/plain": [
       "<matplotlib.image.AxesImage at 0x11711bc40>"
      ]
     },
     "execution_count": 18,
     "metadata": {},
     "output_type": "execute_result"
    },
    {
     "data": {
      "image/png": "[encoded data removed]",
      "text/plain": [
       "<Figure size 432x288 with 1 Axes>"
      ]
     },
     "metadata": {
      "needs_background": "light"
     },
     "output_type": "display_data"
    }
   ],
   "source": [
    "universe = plant_seed(beacon, 100, 100)\n",
    "plt.imshow(universe, cmap = 'inferno')"
   ]
  },
  {
   "cell_type": "code",
   "execution_count": 21,
   "metadata": {},
   "outputs": [],
   "source": [
    "#Modifications to game of life files with some fun starting conditions\n",
    "#file lifep has\n",
    "def loadlife(filename):\n",
    "\n",
    "    def read_grid(j, lines):\n",
    "        grid = []\n",
    "\n",
    "        while not lines[j].startswith('#P'):\n",
    "\n",
    "            line = list(lines[j])[:-1]\n",
    "\n",
    "            tx_line = [0 if item == '.' else item for item in line]\n",
    "            tx_line = [1 if item == '*' else item for item in tx_line]\n",
    "\n",
    "            grid.append(tx_line)\n",
    "\n",
    "            j += 1\n",
    "            if j == len(lines): break\n",
    "\n",
    "        return grid\n",
    "\n",
    "    file = open(filename, 'r')\n",
    "\n",
    "    lines = file.readlines()\n",
    "\n",
    "    point_map = {}\n",
    "    points = []\n",
    "\n",
    "    for i, line in enumerate(lines):\n",
    "        if line.startswith('#P'):\n",
    "            point = (int(line.split()[1]), int(line.split()[2]))\n",
    "            points.append(point)\n",
    "            grid = read_grid(i + 1, lines)\n",
    "            point_map[point] = grid\n",
    "\n",
    "    for point, grid in point_map.items():\n",
    "    # find max length if grid\n",
    "        max_length = max([len(row) for row in grid])\n",
    "\n",
    "    #Add leftovers\n",
    "    for row in grid:\n",
    "        row.extend([0]*(max_length - len(row)))\n",
    "\n",
    "        most_neg_x = min([point[0] for point in points])\n",
    "        most_pos_y = max([point[1] for point in points])\n",
    "\n",
    "        most_pos_x = max([point[0] + len(point_map[point][0]) - 1 for point in points])\n",
    "        most_neg_y = min([point[1] - len(point_map[point]) + 1 for point in points])\n",
    "\n",
    "        x_len = most_pos_x - most_neg_x + 1\n",
    "        y_len = most_pos_y - most_neg_y + 1\n",
    "\n",
    "        universe = [[0 for _ in range(x_len)] for _ in range(y_len)]\n",
    "\n",
    "        normalized_numpized_point_map = {}\n",
    "\n",
    "    for point, grid in point_map.items():\n",
    "    #normalize point\n",
    "        x, y = point\n",
    "\n",
    "        x_n = x - most_neg_x\n",
    "        y_n = (-y) + most_pos_y\n",
    "\n",
    "        point_n = x_n, y_n\n",
    "        normalized_numpized_point_map[point_n] = np.asarray(grid)\n",
    "\n",
    "    universe = np.asarray(universe)\n",
    "    universe = np.zeros((y_len,x_len))\n",
    "\n",
    "    for point, grid in normalized_numpized_point_map.items():\n",
    "        rowu = point[1]\n",
    "        rowl = int(point[1] + grid.shape[0])\n",
    "        coll = point[0]\n",
    "        colr = int(point[0] + grid.shape[1])\n",
    "\n",
    "\n",
    "#         print('col dif ', colr-coll)\n",
    "#         print('cols in universe ', universe.shape[1])\n",
    "#         print('row dif ', rowl-rowu)\n",
    "#         print('rows in universe ', universe.shape[0])\n",
    "#         print('grid shape', grid.shape)\n",
    "#         print('rowu ', rowu, 'row l ', rowl)\n",
    "\n",
    "    universe[rowu:rowl, coll:colr] = grid\n",
    "\n",
    "    return universe"
   ]
  },
  {
   "cell_type": "code",
   "execution_count": 34,
   "metadata": {},
   "outputs": [
    {
     "data": {
      "text/plain": [
       "<matplotlib.image.AxesImage at 0x1180eec10>"
      ]
     },
     "execution_count": 34,
     "metadata": {},
     "output_type": "execute_result"
    },
    {
     "data": {
      "image/png": "[encoded data removed]",
      "text/plain": [
       "<Figure size 432x288 with 1 Axes>"
      ]
     },
     "metadata": {
      "needs_background": "light"
     },
     "output_type": "display_data"
    }
   ],
   "source": [
    "filename = 'lifep/ACORN.LIF'\n",
    "#if it returns an index error means that soil not big enough for seed\n",
    "seed = loadlife(filename)\n",
    "\n",
    "plt.imshow(seed,cmap = 'inferno')"
   ]
  },
  {
   "cell_type": "code",
   "execution_count": 35,
   "metadata": {},
   "outputs": [
    {
     "data": {
      "image/png": "[encoded data removed]",
      "text/plain": [
       "<Figure size 720x720 with 1 Axes>"
      ]
     },
     "metadata": {
      "needs_background": "light"
     },
     "output_type": "display_data"
    }
   ],
   "source": [
    "from IPython.display import clear_output\n",
    "\n",
    "universe = plant_seed(seed, 200, 200)\n",
    "n = 100 #number of generations to simulate\n",
    "\n",
    "def animate(universe, n, updateFunc, colstr):\n",
    "    for i in range(n):\n",
    "        plt.figure(figsize = (10,10))\n",
    "        plt.imshow(updateFunc(universe), cmap = colstr)\n",
    "        plt.show()\n",
    "        universe = updateFunc(universe)\n",
    "    \n",
    "        clear_output(wait = True)\n",
    "        \n",
    "\n",
    "animate(universe, 10, update, 'inferno')"
   ]
  },
  {
   "cell_type": "markdown",
   "metadata": {},
   "source": [
    "# Rules for excitable sys\n",
    "1. if any cell in state 0 and atleast one of its neighbors is in state 1, it becomes 1 in next generation\n",
    "2. if a cell is nonzero then it increases by 1 until it reaches a max state where it returns to 0\n",
    "3. if a state is 0 and had no neighbors in state 1 then it remains in state 0"
   ]
  },
  {
   "cell_type": "code",
   "execution_count": null,
   "metadata": {},
   "outputs": [],
   "source": [
    "def excitable(x):\n",
    "    rows, cols = x.shape\n",
    "    xnew = np.zeros((x.shape))\n",
    "    \n",
    "    for i, j in np.ndindex(x.shape):\n",
    "        \n",
    "        nh = np.array(CHECK LECTURE FOR WHAT TO PUT IN HERE)\n",
    "        \n",
    "        if (x[i,j] == 0) & (np.sum(nh == 1) >= 1):\n",
    "            xnew[i,j] = 1\n",
    "        elif x[i,j] == 10:\n",
    "            xnew[i,j] = 0\n",
    "        elif x[i,j] >= 1:\n",
    "            xnew[i,j] = xnew[i,j] + 1\n",
    "            \n",
    "        return xnew\n",
    "    \n",
    "universe = np.zeros((100,100))\n",
    "universe[45:55, 45:55] = np.random.randint(11, size = 10,10)\n",
    "            \n",
    "animate(universe, 200, excitable, 'plasma')"
   ]
  }
 ],
 "metadata": {
  "kernelspec": {
   "display_name": "Python 3",
   "language": "python",
   "name": "python3"
  },
  "language_info": {
   "codemirror_mode": {
    "name": "ipython",
    "version": 3
   },
   "file_extension": ".py",
   "mimetype": "text/x-python",
   "name": "python",
   "nbconvert_exporter": "python",
   "pygments_lexer": "ipython3",
   "version": "3.8.3"
  }
 },
 "nbformat": 4,
 "nbformat_minor": 4
}
